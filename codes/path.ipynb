{
 "cells": [
  {
   "cell_type": "markdown",
   "id": "c5827c9e-ccd4-4cf8-bce1-144f247aef49",
   "metadata": {},
   "source": [
    "## 파일 경로 "
   ]
  },
  {
   "cell_type": "markdown",
   "id": "8f6eb5b6-cf78-4ca1-a533-065465788115",
   "metadata": {},
   "source": [
    "## 1. 절대 경로 "
   ]
  },
  {
   "cell_type": "markdown",
   "id": "b0e1582b-d771-4ab4-8942-d781023a9956",
   "metadata": {},
   "source": [
    "## 2. 상대경로 "
   ]
  },
  {
   "cell_type": "markdown",
   "id": "d7b4c666-6b15-4933-a3d0-112001b481c3",
   "metadata": {},
   "source": [
    "### 현재 파일 경로 확인 "
   ]
  },
  {
   "cell_type": "code",
   "execution_count": 1,
   "id": "88fb6f55-72e0-4278-b82f-becd415a1458",
   "metadata": {
    "tags": []
   },
   "outputs": [
    {
     "data": {
      "text/plain": [
       "'C:\\\\Users\\\\user\\\\Desktop\\\\java\\\\-coachingstudy_boostcourse\\\\codes'"
      ]
     },
     "execution_count": 1,
     "metadata": {},
     "output_type": "execute_result"
    }
   ],
   "source": [
    "# 실습 파일 경로 확인 \n",
    "%pwd"
   ]
  },
  {
   "cell_type": "code",
   "execution_count": 2,
   "id": "fd5b9d3a-a6cb-45b2-94bf-df2ccfc3d4bc",
   "metadata": {
    "tags": []
   },
   "outputs": [
    {
     "data": {
      "text/plain": [
       "'C:\\\\Users\\\\user\\\\Desktop\\\\java\\\\-coachingstudy_boostcourse\\\\codes'"
      ]
     },
     "execution_count": 2,
     "metadata": {},
     "output_type": "execute_result"
    }
   ],
   "source": [
    "import os\n",
    "os.getcwd()"
   ]
  },
  {
   "cell_type": "code",
   "execution_count": 4,
   "id": "bd383dbd-cf33-4939-a042-d86f096ae5f3",
   "metadata": {
    "tags": []
   },
   "outputs": [],
   "source": [
    "# pd.read_csv(\"도로교통공단_교통사고다발지역_20191010.csv\", encoding=\"cp949\")\n",
    "## csv파일을 불러올 때 한글파일 인코딩을 하지 않으면 오류가 나기 때문에 encoding=\"cp949\" 작성"
   ]
  },
  {
   "cell_type": "code",
   "execution_count": null,
   "id": "31ac48cc-2e2d-4c3f-bc8a-342ae9fa0d93",
   "metadata": {},
   "outputs": [],
   "source": []
  }
 ],
 "metadata": {
  "kernelspec": {
   "display_name": "Python 3 (ipykernel)",
   "language": "python",
   "name": "python3"
  },
  "language_info": {
   "codemirror_mode": {
    "name": "ipython",
    "version": 3
   },
   "file_extension": ".py",
   "mimetype": "text/x-python",
   "name": "python",
   "nbconvert_exporter": "python",
   "pygments_lexer": "ipython3",
   "version": "3.11.4"
  }
 },
 "nbformat": 4,
 "nbformat_minor": 5
}
