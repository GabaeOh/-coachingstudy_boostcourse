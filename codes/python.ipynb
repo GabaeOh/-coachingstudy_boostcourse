{
 "cells": [
  {
   "cell_type": "markdown",
   "id": "fef53807-7396-4038-bdc6-7ea34ab4fa6b",
   "metadata": {},
   "source": [
    "## Zen of Python \n",
    "- 파이썬의 철학이 잘 담겨있는 Zen of Python "
   ]
  },
  {
   "cell_type": "code",
   "execution_count": 1,
   "id": "33861677-5714-4388-a8fc-7c1a98c8789a",
   "metadata": {
    "tags": []
   },
   "outputs": [
    {
     "name": "stdout",
     "output_type": "stream",
     "text": [
      "The Zen of Python, by Tim Peters\n",
      "\n",
      "Beautiful is better than ugly.\n",
      "Explicit is better than implicit.\n",
      "Simple is better than complex.\n",
      "Complex is better than complicated.\n",
      "Flat is better than nested.\n",
      "Sparse is better than dense.\n",
      "Readability counts.\n",
      "Special cases aren't special enough to break the rules.\n",
      "Although practicality beats purity.\n",
      "Errors should never pass silently.\n",
      "Unless explicitly silenced.\n",
      "In the face of ambiguity, refuse the temptation to guess.\n",
      "There should be one-- and preferably only one --obvious way to do it.\n",
      "Although that way may not be obvious at first unless you're Dutch.\n",
      "Now is better than never.\n",
      "Although never is often better than *right* now.\n",
      "If the implementation is hard to explain, it's a bad idea.\n",
      "If the implementation is easy to explain, it may be a good idea.\n",
      "Namespaces are one honking great idea -- let's do more of those!\n"
     ]
    }
   ],
   "source": [
    "import this"
   ]
  },
  {
   "cell_type": "markdown",
   "id": "23172cef-0f2c-495d-bed2-ab5388cf58fd",
   "metadata": {},
   "source": [
    "## boolean\n",
    "- 파이썬에는 명시적인 것이 암시적인 것보다 낫다라는 철학이 있다.\n",
    "- True나 False는 0과 1로도 표현할 수 있으나 명시적으로 표현하기 위해 True와 False 사용"
   ]
  },
  {
   "cell_type": "code",
   "execution_count": 3,
   "id": "47c24542-b193-42c3-ac48-7e6097925d60",
   "metadata": {
    "tags": []
   },
   "outputs": [
    {
     "data": {
      "text/plain": [
       "True"
      ]
     },
     "execution_count": 3,
     "metadata": {},
     "output_type": "execute_result"
    }
   ],
   "source": [
    "True == 1"
   ]
  },
  {
   "cell_type": "code",
   "execution_count": 4,
   "id": "904bcd6d-81fb-4be2-891d-b70a3003dbcb",
   "metadata": {
    "tags": []
   },
   "outputs": [
    {
     "data": {
      "text/plain": [
       "True"
      ]
     },
     "execution_count": 4,
     "metadata": {},
     "output_type": "execute_result"
    }
   ],
   "source": [
    "False == 0"
   ]
  },
  {
   "cell_type": "code",
   "execution_count": 6,
   "id": "e95c6b8b-f87c-491f-a721-f4d7ca4a6546",
   "metadata": {
    "tags": []
   },
   "outputs": [
    {
     "data": {
      "text/plain": [
       "False"
      ]
     },
     "execution_count": 6,
     "metadata": {},
     "output_type": "execute_result"
    }
   ],
   "source": [
    "True == '1' # 문자열이 되기 때문"
   ]
  },
  {
   "cell_type": "code",
   "execution_count": 7,
   "id": "dbbe6b39-14a9-4d4e-bcda-f0f5ea425d41",
   "metadata": {
    "tags": []
   },
   "outputs": [
    {
     "data": {
      "text/plain": [
       "True"
      ]
     },
     "execution_count": 7,
     "metadata": {},
     "output_type": "execute_result"
    }
   ],
   "source": [
    "True != '1' # != 다르다는 표얀 "
   ]
  },
  {
   "cell_type": "code",
   "execution_count": 11,
   "id": "1c49f3bb-c864-4904-b9ce-aff3352a9ff8",
   "metadata": {
    "tags": []
   },
   "outputs": [
    {
     "data": {
      "text/plain": [
       "True"
      ]
     },
     "execution_count": 11,
     "metadata": {},
     "output_type": "execute_result"
    }
   ],
   "source": [
    "# and는 모든 값이 true 일때만 True \n",
    "True and True "
   ]
  },
  {
   "cell_type": "code",
   "execution_count": 12,
   "id": "fb877e95-cb06-443f-a492-d9582968ffa4",
   "metadata": {
    "tags": []
   },
   "outputs": [
    {
     "data": {
      "text/plain": [
       "False"
      ]
     },
     "execution_count": 12,
     "metadata": {},
     "output_type": "execute_result"
    }
   ],
   "source": [
    "# and는 조건 중 하나라도 False라면 False \n",
    "True and False "
   ]
  },
  {
   "cell_type": "code",
   "execution_count": 13,
   "id": "763a6cfb-80d1-410d-aed4-578910f357cf",
   "metadata": {
    "tags": []
   },
   "outputs": [
    {
     "data": {
      "text/plain": [
       "True"
      ]
     },
     "execution_count": 13,
     "metadata": {},
     "output_type": "execute_result"
    }
   ],
   "source": [
    "# or는 하나라도 True라면 True \n",
    "True or False "
   ]
  },
  {
   "cell_type": "markdown",
   "id": "2e0b59ee-7bfb-4fd2-ae07-72aa764f780d",
   "metadata": {},
   "source": [
    "## Number and String \n",
    "- 데이터 타입이 숫자형 과 문자형 "
   ]
  },
  {
   "cell_type": "code",
   "execution_count": 15,
   "id": "8f26f1ab-85cc-44f4-824c-36021b423b29",
   "metadata": {
    "tags": []
   },
   "outputs": [
    {
     "data": {
      "text/plain": [
       "int"
      ]
     },
     "execution_count": 15,
     "metadata": {},
     "output_type": "execute_result"
    }
   ],
   "source": [
    "type(1)"
   ]
  },
  {
   "cell_type": "code",
   "execution_count": 16,
   "id": "210c21d1-6271-4d6e-9b59-93e1c5536f14",
   "metadata": {
    "tags": []
   },
   "outputs": [
    {
     "data": {
      "text/plain": [
       "str"
      ]
     },
     "execution_count": 16,
     "metadata": {},
     "output_type": "execute_result"
    }
   ],
   "source": [
    "type('1')"
   ]
  },
  {
   "cell_type": "code",
   "execution_count": 17,
   "id": "5fcb316a-4885-4ffd-bc03-4bb86d088b9c",
   "metadata": {
    "tags": []
   },
   "outputs": [
    {
     "data": {
      "text/plain": [
       "False"
      ]
     },
     "execution_count": 17,
     "metadata": {},
     "output_type": "execute_result"
    }
   ],
   "source": [
    "1 == '1'"
   ]
  },
  {
   "cell_type": "markdown",
   "id": "80078025-de8b-486e-9ec3-9f816769546d",
   "metadata": {},
   "source": [
    "## String ans Lists"
   ]
  },
  {
   "cell_type": "markdown",
   "id": "cd2c29da-bcc4-4cd0-a0da-8bb629ee95a0",
   "metadata": {},
   "source": [
    "### string "
   ]
  },
  {
   "cell_type": "code",
   "execution_count": 20,
   "id": "251bda09-d0c3-44a8-a09a-d0a24ef0b1f4",
   "metadata": {
    "tags": []
   },
   "outputs": [
    {
     "data": {
      "text/plain": [
       "'Today I Learned'"
      ]
     },
     "execution_count": 20,
     "metadata": {},
     "output_type": "execute_result"
    }
   ],
   "source": [
    "til = \"Today I Learned\"\n",
    "til"
   ]
  },
  {
   "cell_type": "code",
   "execution_count": 25,
   "id": "22ae9336-8723-4c1d-b0e5-12a5505d34a2",
   "metadata": {
    "tags": []
   },
   "outputs": [
    {
     "data": {
      "text/plain": [
       "'today i learned'"
      ]
     },
     "execution_count": 25,
     "metadata": {},
     "output_type": "execute_result"
    }
   ],
   "source": [
    "# 모두 소문자로 변환\n",
    "til.lower()"
   ]
  },
  {
   "cell_type": "code",
   "execution_count": 24,
   "id": "1a184949-3fb0-4c25-a4ec-d08320ad9930",
   "metadata": {
    "tags": []
   },
   "outputs": [
    {
     "data": {
      "text/plain": [
       "'TODAY I LEARNED'"
      ]
     },
     "execution_count": 24,
     "metadata": {},
     "output_type": "execute_result"
    }
   ],
   "source": [
    "# 모두 대문자로 변환\n",
    "til.upper()"
   ]
  },
  {
   "cell_type": "markdown",
   "id": "9893b7eb-02f9-42b4-9ad5-3465db4b76c0",
   "metadata": {},
   "source": [
    "### lists"
   ]
  },
  {
   "cell_type": "code",
   "execution_count": 34,
   "id": "7e8ae93d-0b34-47c0-b56b-a51a28770a43",
   "metadata": {
    "tags": []
   },
   "outputs": [
    {
     "data": {
      "text/plain": [
       "[]"
      ]
     },
     "execution_count": 34,
     "metadata": {},
     "output_type": "execute_result"
    }
   ],
   "source": [
    "lang = []\n",
    "lang"
   ]
  },
  {
   "cell_type": "code",
   "execution_count": 35,
   "id": "92d0d6fc-edb3-4164-bc16-d3d1d02d6688",
   "metadata": {
    "tags": []
   },
   "outputs": [
    {
     "data": {
      "text/plain": [
       "['python', 'java', 'c']"
      ]
     },
     "execution_count": 35,
     "metadata": {},
     "output_type": "execute_result"
    }
   ],
   "source": [
    "# 빈 리스트에 원소 추가\n",
    "lang.append(\"python\")\n",
    "lang.append(\"java\")\n",
    "lang.append(\"c\")\n",
    "lang"
   ]
  },
  {
   "cell_type": "code",
   "execution_count": 32,
   "id": "6b54b423-522b-48ad-9dba-8c58a68e22ab",
   "metadata": {
    "tags": []
   },
   "outputs": [
    {
     "data": {
      "text/plain": [
       "'python'"
      ]
     },
     "execution_count": 32,
     "metadata": {},
     "output_type": "execute_result"
    }
   ],
   "source": [
    "# 인덱스로 각각의 value값 가져오기\n",
    "lang[0]"
   ]
  },
  {
   "cell_type": "code",
   "execution_count": 30,
   "id": "39107b2c-8f57-45db-b3a6-3f6f36d88c0c",
   "metadata": {
    "tags": []
   },
   "outputs": [
    {
     "data": {
      "text/plain": [
       "'c'"
      ]
     },
     "execution_count": 30,
     "metadata": {},
     "output_type": "execute_result"
    }
   ],
   "source": [
    "# 가장 마지막 인덱스 가져오기\n",
    "lang[-1]"
   ]
  },
  {
   "cell_type": "markdown",
   "id": "1c421edd-6b04-4127-aaf1-46f7867b1b9c",
   "metadata": {},
   "source": [
    "## Control Flow\n",
    "- 제어문 - 조건문, 반복문"
   ]
  },
  {
   "cell_type": "code",
   "execution_count": 37,
   "id": "fe072796-a499-4625-a96f-b556223d3ed8",
   "metadata": {
    "tags": []
   },
   "outputs": [
    {
     "name": "stdout",
     "output_type": "stream",
     "text": [
      "python\n",
      "java\n",
      "c\n"
     ]
    }
   ],
   "source": [
    "# 반복문 \n",
    "for i in lang:\n",
    "    print(i)"
   ]
  },
  {
   "cell_type": "code",
   "execution_count": 39,
   "id": "8dc8d85c-0b4c-40d9-8410-7c6565649ed8",
   "metadata": {
    "tags": []
   },
   "outputs": [
    {
     "name": "stdout",
     "output_type": "stream",
     "text": [
      "python\n",
      "기타\n",
      "기타\n"
     ]
    }
   ],
   "source": [
    "# 반복문 안의 조건문 \n",
    "for i in lang:\n",
    "    if i == \"python\":\n",
    "        print(\"python\")\n",
    "    else : \n",
    "        print(\"기타\")"
   ]
  },
  {
   "cell_type": "code",
   "execution_count": 46,
   "id": "20363abe-deb1-4b1d-b5fe-6eb4f9004d2f",
   "metadata": {
    "tags": []
   },
   "outputs": [
    {
     "name": "stdout",
     "output_type": "stream",
     "text": [
      "python\n",
      "java\n",
      "c\n"
     ]
    }
   ],
   "source": [
    "# 특정 횟수만큼 반복문 실행 \n",
    "count = len(lang)\n",
    "for i in range(count):\n",
    "    print(lang[i])"
   ]
  },
  {
   "cell_type": "code",
   "execution_count": 51,
   "id": "50d8b930-e401-4e23-a2f2-b34eae1fded0",
   "metadata": {
    "tags": []
   },
   "outputs": [
    {
     "name": "stdout",
     "output_type": "stream",
     "text": [
      "java\n",
      "python\n",
      "java\n",
      "python\n",
      "java\n",
      "python\n",
      "java\n",
      "python\n",
      "java\n"
     ]
    }
   ],
   "source": [
    "# for문과 if문을 함께 사용 \n",
    "# 짝수일때 python, 홀수일때 java 출력 \n",
    "for i in range(1, 10):\n",
    "    if i % 2 == 0:\n",
    "        print(\"python\")\n",
    "    else :\n",
    "        print(\"java\")"
   ]
  },
  {
   "cell_type": "code",
   "execution_count": 53,
   "id": "1f97ae1d-8309-4055-8a33-46e5c1b1c807",
   "metadata": {
    "tags": []
   },
   "outputs": [
    {
     "name": "stdout",
     "output_type": "stream",
     "text": [
      "0 python\n",
      "1 java\n",
      "2 c\n"
     ]
    }
   ],
   "source": [
    "# enumerate를 사용하면 인덱스 번호와 원소를 같이 가져올 수 있다\n",
    "for i, val in enumerate (lang):\n",
    "    print(i, val)"
   ]
  },
  {
   "cell_type": "markdown",
   "id": "9390ddfd-9c50-4803-bb05-85c63ac06602",
   "metadata": {},
   "source": [
    "### 문자열"
   ]
  },
  {
   "cell_type": "code",
   "execution_count": 55,
   "id": "c8db4d28-4450-4ddd-aa24-f9bf43ab266e",
   "metadata": {
    "tags": []
   },
   "outputs": [
    {
     "data": {
      "text/plain": [
       "'  경기도 성남시 분당구 불정로 6 naver 그린팩토리 16층  '"
      ]
     },
     "execution_count": 55,
     "metadata": {},
     "output_type": "execute_result"
    }
   ],
   "source": [
    "address = \"  경기도 성남시 분당구 불정로 6 naver 그린팩토리 16층  \"\n",
    "address"
   ]
  },
  {
   "cell_type": "code",
   "execution_count": 57,
   "id": "4e7de8bb-52a7-43fb-a39d-250a7da1e324",
   "metadata": {
    "tags": []
   },
   "outputs": [
    {
     "data": {
      "text/plain": [
       "'경기도 성남시 분당구 불정로 6 naver 그린팩토리 16층'"
      ]
     },
     "execution_count": 57,
     "metadata": {},
     "output_type": "execute_result"
    }
   ],
   "source": [
    "# 앞뒤 공백을 제거 \n",
    "#데이터 전처리시 주로 사용 \n",
    "address = address.strip()\n",
    "address"
   ]
  },
  {
   "cell_type": "code",
   "execution_count": 59,
   "id": "213f13bc-94b1-4174-9aa8-8b5517f24888",
   "metadata": {
    "tags": []
   },
   "outputs": [
    {
     "data": {
      "text/plain": [
       "33"
      ]
     },
     "execution_count": 59,
     "metadata": {},
     "output_type": "execute_result"
    }
   ],
   "source": [
    "# 문자열의 길이\n",
    "len(address)"
   ]
  },
  {
   "cell_type": "code",
   "execution_count": 64,
   "id": "9130464b-129d-4fb4-811b-1db9880b61dc",
   "metadata": {
    "tags": []
   },
   "outputs": [
    {
     "data": {
      "text/plain": [
       "['경기도', '성남시', '분당구', '불정로', '6', 'naver', '그린팩토리', '16층']"
      ]
     },
     "execution_count": 64,
     "metadata": {},
     "output_type": "execute_result"
    }
   ],
   "source": [
    "# 공백으로 문자열 분리 \n",
    "address_list = address.split()\n",
    "address_list"
   ]
  },
  {
   "cell_type": "code",
   "execution_count": 66,
   "id": "0bf6eaf3-9e47-48f0-a275-e55679debdc2",
   "metadata": {
    "tags": []
   },
   "outputs": [
    {
     "data": {
      "text/plain": [
       "8"
      ]
     },
     "execution_count": 66,
     "metadata": {},
     "output_type": "execute_result"
    }
   ],
   "source": [
    "# 리스트의 길이\n",
    "len(address_list)"
   ]
  },
  {
   "cell_type": "markdown",
   "id": "8472fc3a-b2b4-47e6-8517-e6fd3369477c",
   "metadata": {},
   "source": [
    "### 문자열\n",
    "- 슬라이싱, startswith, in을 통해 문자열에 경기가 있는지 확인"
   ]
  },
  {
   "cell_type": "code",
   "execution_count": 68,
   "id": "8b13956b-b8e4-4c71-982e-1741a9952304",
   "metadata": {
    "tags": []
   },
   "outputs": [
    {
     "data": {
      "text/plain": [
       "'경기'"
      ]
     },
     "execution_count": 68,
     "metadata": {},
     "output_type": "execute_result"
    }
   ],
   "source": [
    "# 슬라이싱으로 문자 가져오기\n",
    "address[:2]"
   ]
  },
  {
   "cell_type": "code",
   "execution_count": 82,
   "id": "de234936-2747-4615-9068-e7240655e332",
   "metadata": {
    "tags": []
   },
   "outputs": [
    {
     "data": {
      "text/plain": [
       "True"
      ]
     },
     "execution_count": 82,
     "metadata": {},
     "output_type": "execute_result"
    }
   ],
   "source": [
    "#startswith를 사용하면 특정문자가 포함되는지 여부를 확인\n",
    "address.startswith(\"경기도\")"
   ]
  },
  {
   "cell_type": "code",
   "execution_count": 81,
   "id": "78a82b84-4dd1-4028-b107-c6646523325f",
   "metadata": {
    "tags": []
   },
   "outputs": [
    {
     "data": {
      "text/plain": [
       "True"
      ]
     },
     "execution_count": 81,
     "metadata": {},
     "output_type": "execute_result"
    }
   ],
   "source": [
    "# in을 사용하게 되면 특정문자열을 포함하고 있는지 여부를 확인\n",
    "\"경기\" in address"
   ]
  },
  {
   "cell_type": "markdown",
   "id": "debfd10f-09f2-4264-8989-aa3d88946465",
   "metadata": {},
   "source": [
    "### 리스트"
   ]
  },
  {
   "cell_type": "code",
   "execution_count": 76,
   "id": "56a6873e-15b4-4b68-991e-dfa80032e4ab",
   "metadata": {
    "tags": []
   },
   "outputs": [
    {
     "data": {
      "text/plain": [
       "'분당구'"
      ]
     },
     "execution_count": 76,
     "metadata": {},
     "output_type": "execute_result"
    }
   ],
   "source": [
    "gu = address_list[2]\n",
    "gu"
   ]
  },
  {
   "cell_type": "code",
   "execution_count": 77,
   "id": "28d0fa3a-720c-4f81-9261-4406ca6c3752",
   "metadata": {
    "tags": []
   },
   "outputs": [
    {
     "data": {
      "text/plain": [
       "'불정로'"
      ]
     },
     "execution_count": 77,
     "metadata": {},
     "output_type": "execute_result"
    }
   ],
   "source": [
    "street = address_list[3]\n",
    "street"
   ]
  },
  {
   "cell_type": "code",
   "execution_count": 79,
   "id": "290aec2b-6df0-42fd-9930-39bea754a55b",
   "metadata": {
    "tags": []
   },
   "outputs": [
    {
     "data": {
      "text/plain": [
       "'16층'"
      ]
     },
     "execution_count": 79,
     "metadata": {},
     "output_type": "execute_result"
    }
   ],
   "source": [
    "address_list[-1]"
   ]
  },
  {
   "cell_type": "code",
   "execution_count": 83,
   "id": "9eec023e-5624-4848-8b1b-c511f3b8292c",
   "metadata": {
    "tags": []
   },
   "outputs": [
    {
     "data": {
      "text/plain": [
       "'경기도 성남시 분당구 불정로 6 naver 그린팩토리 16층'"
      ]
     },
     "execution_count": 83,
     "metadata": {},
     "output_type": "execute_result"
    }
   ],
   "source": [
    "# \"\".join()를 사용하면 리스트를 공백 문자열로 연결\n",
    "\" \".join(address_list)"
   ]
  },
  {
   "cell_type": "code",
   "execution_count": 85,
   "id": "14e2c829-6902-4fed-baf5-326a44819a57",
   "metadata": {
    "tags": []
   },
   "outputs": [
    {
     "data": {
      "text/plain": [
       "True"
      ]
     },
     "execution_count": 85,
     "metadata": {},
     "output_type": "execute_result"
    }
   ],
   "source": [
    "'경기도' in address_list"
   ]
  },
  {
   "cell_type": "code",
   "execution_count": 86,
   "id": "7b20cb6b-94ee-4632-8446-c504e13c5a15",
   "metadata": {
    "tags": []
   },
   "outputs": [
    {
     "data": {
      "text/plain": [
       "True"
      ]
     },
     "execution_count": 86,
     "metadata": {},
     "output_type": "execute_result"
    }
   ],
   "source": [
    "'분당구' in address_list"
   ]
  },
  {
   "cell_type": "code",
   "execution_count": null,
   "id": "7df757b4-5f0c-428b-be09-22667f8546aa",
   "metadata": {},
   "outputs": [],
   "source": []
  }
 ],
 "metadata": {
  "kernelspec": {
   "display_name": "Python 3 (ipykernel)",
   "language": "python",
   "name": "python3"
  },
  "language_info": {
   "codemirror_mode": {
    "name": "ipython",
    "version": 3
   },
   "file_extension": ".py",
   "mimetype": "text/x-python",
   "name": "python",
   "nbconvert_exporter": "python",
   "pygments_lexer": "ipython3",
   "version": "3.11.4"
  }
 },
 "nbformat": 4,
 "nbformat_minor": 5
}
