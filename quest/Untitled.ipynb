{
 "cells": [
  {
   "cell_type": "markdown",
   "id": "e9b882eb-1a18-4cae-8bcd-23f843146129",
   "metadata": {
    "tags": []
   },
   "source": [
    "# 더 분석해 보기\n",
    "- 상권업종중분류명, 상권업종소분류명 중에 관심 있는 분류명을 색인 후에 시도별, 시군구별 분석을 해보세요.\n",
    "- 예시)\n",
    "    - 언어치료는 시군구별로 어디에 많이 위치할까?\n",
    "    - 의료시설은 서울과 강남에 집중되어 있을까?\n",
    "    - 강남에는 피부과, 성형외과가 다른 지역에 비해 많을까?"
   ]
  },
  {
   "cell_type": "code",
   "execution_count": null,
   "id": "7f4cbfc8-bca3-412d-a19d-359c6e89b914",
   "metadata": {},
   "outputs": [],
   "source": []
  }
 ],
 "metadata": {
  "kernelspec": {
   "display_name": "Python 3 (ipykernel)",
   "language": "python",
   "name": "python3"
  },
  "language_info": {
   "codemirror_mode": {
    "name": "ipython",
    "version": 3
   },
   "file_extension": ".py",
   "mimetype": "text/x-python",
   "name": "python",
   "nbconvert_exporter": "python",
   "pygments_lexer": "ipython3",
   "version": "3.11.4"
  }
 },
 "nbformat": 4,
 "nbformat_minor": 5
}
