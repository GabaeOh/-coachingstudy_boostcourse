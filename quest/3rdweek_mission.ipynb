{
 "cells": [
  {
   "cell_type": "code",
   "execution_count": 1,
   "id": "dcc477d6-aa70-489b-a8c0-92bfdd2f67fa",
   "metadata": {
    "tags": []
   },
   "outputs": [],
   "source": [
    "# 📋 3주차 미션"
   ]
  },
  {
   "cell_type": "code",
   "execution_count": 2,
   "id": "8fbe0b2b-f352-4f45-829e-8cc1cc4a1775",
   "metadata": {
    "tags": []
   },
   "outputs": [],
   "source": [
    "import pandas as pd\n",
    "import numpy as np\n",
    "import seaborn as sns\n",
    "import koreanize_matplotlib"
   ]
  },
  {
   "cell_type": "code",
   "execution_count": 3,
   "id": "8dcd01a2-6446-4f0a-8ec6-1caade45e82f",
   "metadata": {
    "tags": []
   },
   "outputs": [],
   "source": [
    "df = pd.read_csv(\"https://raw.githubusercontent.com/corazzon/boostcourse-ds-510/master/data/NHIS_OPEN_GJ_2017.CSV.zip\",\n",
    "                 encoding=\"cp949\")"
   ]
  },
  {
   "cell_type": "markdown",
   "id": "9e96d58f-b59c-48c2-bc05-151a6a1cef5d",
   "metadata": {
    "tags": []
   },
   "source": [
    "## 📌 Q1. 연령대별 허리둘레에 대한 기술통계를 구하려고 합니다. 다음 제공되는 딕셔너리를 통해 연령대코드(5세단위)를 \"연령대\"로 만들고 아래와 같은 기술통계값을 구해주세요!"
   ]
  },
  {
   "cell_type": "code",
   "execution_count": 5,
   "id": "e505cc9c-5967-44d9-b41d-530f7d6773b3",
   "metadata": {
    "tags": []
   },
   "outputs": [],
   "source": [
    "age_code = {1: '0~4세',\n",
    " 2: '5~9세',\n",
    " 3: '10~14세',\n",
    " 4: '15~19세',\n",
    " 5: '20~24세',\n",
    " 6: '25~29세',\n",
    " 7: '30~34세',\n",
    " 8: '35~39세',\n",
    " 9: '40~44세',\n",
    " 10: '45~49세',\n",
    " 11: '50~54세',\n",
    " 12: '55~59세',\n",
    " 13: '60~64세',\n",
    " 14: '65~69세',\n",
    " 15: '70~74세',\n",
    " 16: '75~79세',\n",
    " 17: '80~84세',\n",
    " 18: '85세+'}"
   ]
  },
  {
   "cell_type": "markdown",
   "id": "178fdacc-8b4f-4e07-a4db-d48cab47d145",
   "metadata": {},
   "source": [
    "## 📌Q2. \"음주여부\", \"흡연상태\", \"연령대코드(5세단위)\", \"성별코드\"에 대한 상관계수를 구하고 시각화 해주세요."
   ]
  },
  {
   "cell_type": "markdown",
   "id": "43662059-447c-4f0e-9c56-45deab65e5a8",
   "metadata": {},
   "source": [
    "## 📌 Q3. 흡연하는 사람과 음주하는 사람들의 수는 얼마나 차이가 있을까요?"
   ]
  },
  {
   "cell_type": "code",
   "execution_count": 6,
   "id": "4767b263-bb18-47c2-b9f8-31fbb8d65cec",
   "metadata": {
    "tags": []
   },
   "outputs": [],
   "source": [
    "# 흡연 1(피우지 않는다), 2(이전에 피웠으나 끊었다), 3(현재도 피우고 있다)\n",
    "# 음주 0(마시지 않은다), 1(마신다)\n",
    "smoke = {1 : \"흡연안함\", 2: \"끊음\", 3: \"흡연중\"}\n",
    "drink = {0: \"안마심\", 1: \"마심\"}\n",
    "\n",
    "# df[\"흡연\"]\n",
    "# df[\"음주\"]"
   ]
  },
  {
   "cell_type": "markdown",
   "id": "cfb0c2cb-c0ad-49e2-8c4f-069d7688105d",
   "metadata": {},
   "source": [
    "## 📌 Q4. 체중이 120Kg 이상인 데이터를 찾아 \"총콜레스테롤\", \"감마지티피\" 값을 음주여부에 따라 산점도로 시각화해주세요!"
   ]
  },
  {
   "cell_type": "markdown",
   "id": "6ee3a196-c3d7-4bf2-905a-2a3ced9a6936",
   "metadata": {},
   "source": [
    "## 📌 Q5. 연령대별로 시력은 얼마나 차이가 날까요? 연령대, 성별 좌우 평균 시력을 시각화 해주세요!"
   ]
  },
  {
   "cell_type": "code",
   "execution_count": null,
   "id": "b5cee539-cafa-416a-8b95-860ab0206f81",
   "metadata": {},
   "outputs": [],
   "source": []
  }
 ],
 "metadata": {
  "kernelspec": {
   "display_name": "Python 3 (ipykernel)",
   "language": "python",
   "name": "python3"
  },
  "language_info": {
   "codemirror_mode": {
    "name": "ipython",
    "version": 3
   },
   "file_extension": ".py",
   "mimetype": "text/x-python",
   "name": "python",
   "nbconvert_exporter": "python",
   "pygments_lexer": "ipython3",
   "version": "3.11.4"
  }
 },
 "nbformat": 4,
 "nbformat_minor": 5
}
